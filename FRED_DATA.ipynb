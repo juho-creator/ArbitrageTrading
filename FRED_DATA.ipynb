{
 "cells": [
  {
   "cell_type": "code",
   "execution_count": 1,
   "id": "9f84d9e7",
   "metadata": {},
   "outputs": [
    {
     "data": {
      "text/plain": [
       "date\n",
       "1981-04-13     675.40\n",
       "1981-04-14     676.70\n",
       "1981-04-15     676.70\n",
       "1981-04-16     676.70\n",
       "1981-04-17     676.75\n",
       "               ...   \n",
       "2023-12-04    1304.43\n",
       "2023-12-05    1311.47\n",
       "2023-12-06    1313.03\n",
       "2023-12-07    1325.27\n",
       "2023-12-08    1307.11\n",
       "Freq: B, Name: value, Length: 11130, dtype: float64"
      ]
     },
     "execution_count": 1,
     "metadata": {},
     "output_type": "execute_result"
    }
   ],
   "source": [
    "import pandas as pd\n",
    "import fredpy as fp\n",
    "from datetime import datetime, timedelta\n",
    "import plotly.express as px\n",
    "import plotly.graph_objects as go\n",
    "from plotly.subplots import make_subplots\n",
    "fp.api_key = \"c1437e56d26f5a198e56df6ba714acf8\"\n",
    "import warnings\n",
    "warnings.filterwarnings('ignore')\n",
    "enddate= (datetime.now() + timedelta (days=-1)).strftime('%Y-%m-%d')\n",
    "won= fp.series('DEXKOUS', enddate)\n",
    "won.data"
   ]
  },
  {
   "cell_type": "code",
   "execution_count": null,
   "id": "32e20f94",
   "metadata": {},
   "outputs": [],
   "source": []
  }
 ],
 "metadata": {
  "kernelspec": {
   "display_name": "Python 3 (ipykernel)",
   "language": "python",
   "name": "python3"
  },
  "language_info": {
   "codemirror_mode": {
    "name": "ipython",
    "version": 3
   },
   "file_extension": ".py",
   "mimetype": "text/x-python",
   "name": "python",
   "nbconvert_exporter": "python",
   "pygments_lexer": "ipython3",
   "version": "3.11.5"
  }
 },
 "nbformat": 4,
 "nbformat_minor": 5
}
